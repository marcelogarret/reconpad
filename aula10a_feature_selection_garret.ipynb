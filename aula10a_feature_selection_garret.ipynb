{
  "nbformat": 4,
  "nbformat_minor": 0,
  "metadata": {
    "colab": {
      "provenance": [],
      "include_colab_link": true
    },
    "kernelspec": {
      "name": "python3",
      "display_name": "Python 3"
    },
    "language_info": {
      "name": "python"
    }
  },
  "cells": [
    {
      "cell_type": "markdown",
      "metadata": {
        "id": "view-in-github",
        "colab_type": "text"
      },
      "source": [
        "<a href=\"https://colab.research.google.com/github/marcelogarret/reconpad/blob/main/aula10a_feature_selection_garret.ipynb\" target=\"_parent\"><img src=\"https://colab.research.google.com/assets/colab-badge.svg\" alt=\"Open In Colab\"/></a>"
      ]
    },
    {
      "cell_type": "code",
      "execution_count": 1,
      "metadata": {
        "colab": {
          "base_uri": "https://localhost:8080/"
        },
        "id": "1jKzneXD__td",
        "outputId": "a44c0c10-beca-42ec-e245-edfc922bfc04"
      },
      "outputs": [
        {
          "output_type": "execute_result",
          "data": {
            "text/plain": [
              "((581012, 54), (581012,))"
            ]
          },
          "metadata": {},
          "execution_count": 1
        }
      ],
      "source": [
        "from sklearn.datasets import fetch_covtype\n",
        "X, y = fetch_covtype(return_X_y=True)\n",
        "X.shape, y.shape"
      ]
    },
    {
      "cell_type": "code",
      "source": [
        "from sklearn.ensemble import RandomForestClassifier\n",
        "from sklearn.model_selection import cross_validate\n",
        "import numpy as np\n",
        "\n",
        "modelo = RandomForestClassifier()\n",
        "scores = cross_validate(modelo, X, y)\n",
        "scores, np.mean(scores['test_score'])"
      ],
      "metadata": {
        "colab": {
          "base_uri": "https://localhost:8080/"
        },
        "id": "WHbJ67NbBRom",
        "outputId": "c4180bae-d2ea-4c2f-d665-8801232d1eae"
      },
      "execution_count": 8,
      "outputs": [
        {
          "output_type": "execute_result",
          "data": {
            "text/plain": [
              "({'fit_time': array([129.38526416, 130.63656592, 136.92607808, 132.83853865,\n",
              "         130.70089293]),\n",
              "  'score_time': array([2.21953797, 2.94368649, 2.70427847, 2.5876112 , 2.18802738]),\n",
              "  'test_score': array([0.62662754, 0.55902171, 0.55170307, 0.60191735, 0.63393057])},\n",
              " 0.5946400481071723)"
            ]
          },
          "metadata": {},
          "execution_count": 8
        }
      ]
    },
    {
      "cell_type": "code",
      "source": [
        "from sklearn.pipeline import Pipeline\n",
        "from sklearn.feature_selection import VarianceThreshold\n",
        "\n",
        "modelo = Pipeline([\n",
        "    ('fs', VarianceThreshold(threshold=0.01)),\n",
        "    ('clf', RandomForestClassifier())\n",
        "])\n",
        "scores = cross_validate(modelo, X, y)\n",
        "scores, np.mean(scores['test_score'])"
      ],
      "metadata": {
        "colab": {
          "base_uri": "https://localhost:8080/"
        },
        "id": "_rckQgwOEp7S",
        "outputId": "97c8f50b-f42a-4906-c7f3-504f82ce1ae8"
      },
      "execution_count": 9,
      "outputs": [
        {
          "output_type": "execute_result",
          "data": {
            "text/plain": [
              "({'fit_time': array([107.35198283, 116.03117895, 113.28269506, 106.33783388,\n",
              "         107.37928748]),\n",
              "  'score_time': array([2.35255575, 3.00812221, 2.9600091 , 2.7142489 , 2.53826547]),\n",
              "  'test_score': array([0.6311541 , 0.55729198, 0.54697854, 0.60763154, 0.63368961])},\n",
              " 0.5953491532915415)"
            ]
          },
          "metadata": {},
          "execution_count": 9
        }
      ]
    },
    {
      "cell_type": "code",
      "source": [
        "from sklearn.feature_selection import SelectPercentile, f_classif\n",
        "\n",
        "modelo = Pipeline([\n",
        "    ('fsvar', VarianceThreshold(threshold=0.01)),\n",
        "    ('fs', SelectPercentile(f_classif)),\n",
        "    ('clf', RandomForestClassifier())\n",
        "])\n",
        "scores = cross_validate(modelo, X, y)\n",
        "from sklearn.ensemble import RandomForestClassifier\n",
        "from sklearn.model_selection import cross_validate\n",
        "import numpy as npscores, np.mean(scores['test_score'])"
      ],
      "metadata": {
        "colab": {
          "base_uri": "https://localhost:8080/"
        },
        "id": "0B9gDMnBGAbZ",
        "outputId": "19d3838a-677b-486b-a2d8-a146ae81b332"
      },
      "execution_count": 10,
      "outputs": [
        {
          "output_type": "execute_result",
          "data": {
            "text/plain": [
              "({'fit_time': array([40.67433238, 40.21632981, 38.75403595, 39.24493575, 37.6122191 ]),\n",
              "  'score_time': array([2.33800006, 1.9649756 , 2.00144696, 2.12981534, 2.38026452]),\n",
              "  'test_score': array([0.67160056, 0.76358614, 0.65765649, 0.64455001, 0.53674636])},\n",
              " 0.6548279114185658)"
            ]
          },
          "metadata": {},
          "execution_count": 10
        }
      ]
    },
    {
      "cell_type": "code",
      "source": [
        "from sklearn.feature_selection import SelectKBest, f_classif\n",
        "\n",
        "modelo = Pipeline([\n",
        "    ('fsvar', VarianceThreshold(threshold=0.01)),\n",
        "    ('fs', SelectKBest(f_classif, k='all')),\n",
        "    ('clf', RandomForestClassifier())\n",
        "])\n",
        "scores = cross_validate(modelo, X, y)\n",
        "scores, np.mean(scores['test_score'])"
      ],
      "metadata": {
        "colab": {
          "base_uri": "https://localhost:8080/"
        },
        "id": "gjAnqULPG-zc",
        "outputId": "230815b4-9190-40da-e45a-5a1fc93e4886"
      },
      "execution_count": 3,
      "outputs": [
        {
          "output_type": "execute_result",
          "data": {
            "text/plain": [
              "({'fit_time': array([111.76998591, 109.26285911, 109.17344284, 108.26466632,\n",
              "         109.82676244]),\n",
              "  'score_time': array([2.30003595, 2.73185682, 2.71750402, 2.72208023, 2.53557062]),\n",
              "  'test_score': array([0.63233307, 0.55995112, 0.5460147 , 0.60519612, 0.63214058])},\n",
              " 0.595127119526011)"
            ]
          },
          "metadata": {},
          "execution_count": 3
        }
      ]
    }
  ]
}