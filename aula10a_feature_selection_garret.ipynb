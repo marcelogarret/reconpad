{
  "nbformat": 4,
  "nbformat_minor": 0,
  "metadata": {
    "colab": {
      "provenance": [],
      "include_colab_link": true
    },
    "kernelspec": {
      "name": "python3",
      "display_name": "Python 3"
    },
    "language_info": {
      "name": "python"
    }
  },
  "cells": [
    {
      "cell_type": "markdown",
      "metadata": {
        "id": "view-in-github",
        "colab_type": "text"
      },
      "source": [
        "<a href=\"https://colab.research.google.com/github/marcelogarret/reconpad/blob/main/aula10a_feature_selection_garret.ipynb\" target=\"_parent\"><img src=\"https://colab.research.google.com/assets/colab-badge.svg\" alt=\"Open In Colab\"/></a>"
      ]
    },
    {
      "cell_type": "code",
      "execution_count": 1,
      "metadata": {
        "colab": {
          "base_uri": "https://localhost:8080/"
        },
        "id": "1jKzneXD__td",
        "outputId": "2ee2f5a9-d024-4246-e655-b1c6b91e8a96"
      },
      "outputs": [
        {
          "output_type": "execute_result",
          "data": {
            "text/plain": [
              "((581012, 54), (581012,))"
            ]
          },
          "metadata": {},
          "execution_count": 1
        }
      ],
      "source": [
        "from sklearn.datasets import fetch_covtype\n",
        "X, y = fetch_covtype(return_X_y=True)\n",
        "X.shape, y.shape"
      ]
    },
    {
      "cell_type": "code",
      "source": [
        "from sklearn.ensemble import RandomForestClassifier\n",
        "from sklearn.model_selection import cross_validate\n",
        "import numpy as np\n",
        "\n",
        "modelo = RandomForestClassifier()\n",
        "scores = cross_validate(modelo, X, y)\n",
        "scores, np.mean(scores['test_score'])"
      ],
      "metadata": {
        "colab": {
          "base_uri": "https://localhost:8080/"
        },
        "id": "WHbJ67NbBRom",
        "outputId": "c4180bae-d2ea-4c2f-d665-8801232d1eae"
      },
      "execution_count": 8,
      "outputs": [
        {
          "output_type": "execute_result",
          "data": {
            "text/plain": [
              "({'fit_time': array([129.38526416, 130.63656592, 136.92607808, 132.83853865,\n",
              "         130.70089293]),\n",
              "  'score_time': array([2.21953797, 2.94368649, 2.70427847, 2.5876112 , 2.18802738]),\n",
              "  'test_score': array([0.62662754, 0.55902171, 0.55170307, 0.60191735, 0.63393057])},\n",
              " 0.5946400481071723)"
            ]
          },
          "metadata": {},
          "execution_count": 8
        }
      ]
    },
    {
      "cell_type": "code",
      "source": [
        "from sklearn.pipeline import Pipeline\n",
        "from sklearn.feature_selection import VarianceThreshold\n",
        "\n",
        "modelo = Pipeline([\n",
        "    ('fs', VarianceThreshold(threshold=0.01)),\n",
        "    ('clf', RandomForestClassifier())\n",
        "])\n",
        "scores = cross_validate(modelo, X, y)\n",
        "scores, np.mean(scores['test_score'])"
      ],
      "metadata": {
        "colab": {
          "base_uri": "https://localhost:8080/"
        },
        "id": "_rckQgwOEp7S",
        "outputId": "97c8f50b-f42a-4906-c7f3-504f82ce1ae8"
      },
      "execution_count": 9,
      "outputs": [
        {
          "output_type": "execute_result",
          "data": {
            "text/plain": [
              "({'fit_time': array([107.35198283, 116.03117895, 113.28269506, 106.33783388,\n",
              "         107.37928748]),\n",
              "  'score_time': array([2.35255575, 3.00812221, 2.9600091 , 2.7142489 , 2.53826547]),\n",
              "  'test_score': array([0.6311541 , 0.55729198, 0.54697854, 0.60763154, 0.63368961])},\n",
              " 0.5953491532915415)"
            ]
          },
          "metadata": {},
          "execution_count": 9
        }
      ]
    },
    {
      "cell_type": "code",
      "source": [
        "from sklearn.feature_selection import SelectPercentile, f_classif\n",
        "\n",
        "modelo = Pipeline([\n",
        "    ('fsvar', VarianceThreshold(threshold=0.01)),\n",
        "    ('fs', SelectPercentile(f_classif)),\n",
        "    ('clf', RandomForestClassifier())\n",
        "])\n",
        "scores = cross_validate(modelo, X, y)\n",
        "scores, np.mean(scores['test_score'])"
      ],
      "metadata": {
        "colab": {
          "base_uri": "https://localhost:8080/"
        },
        "id": "0B9gDMnBGAbZ",
        "outputId": "19d3838a-677b-486b-a2d8-a146ae81b332"
      },
      "execution_count": 10,
      "outputs": [
        {
          "output_type": "execute_result",
          "data": {
            "text/plain": [
              "({'fit_time': array([40.67433238, 40.21632981, 38.75403595, 39.24493575, 37.6122191 ]),\n",
              "  'score_time': array([2.33800006, 1.9649756 , 2.00144696, 2.12981534, 2.38026452]),\n",
              "  'test_score': array([0.67160056, 0.76358614, 0.65765649, 0.64455001, 0.53674636])},\n",
              " 0.6548279114185658)"
            ]
          },
          "metadata": {},
          "execution_count": 10
        }
      ]
    },
    {
      "cell_type": "code",
      "source": [
        "from sklearn.feature_selection import SelectKBest, f_classif\n",
        "\n",
        "modelo = Pipeline([\n",
        "    ('fsvar', VarianceThreshold(threshold=0.01)),\n",
        "    ('fs', SelectKBest(f_classif)),\n",
        "    ('clf', RandomForestClassifier())\n",
        "])\n",
        "scores = cross_validate(modelo, X, y)\n",
        "scores, np.mean(scores['test_score'])"
      ],
      "metadata": {
        "colab": {
          "base_uri": "https://localhost:8080/"
        },
        "id": "gjAnqULPG-zc",
        "outputId": "42828923-15f9-48e5-84b6-18eba01f07b0"
      },
      "execution_count": 11,
      "outputs": [
        {
          "output_type": "execute_result",
          "data": {
            "text/plain": [
              "({'fit_time': array([87.87038898, 91.9985621 , 82.73462892, 79.6015718 , 78.31918931]),\n",
              "  'score_time': array([3.27744436, 2.30719423, 3.14607763, 3.53159022, 2.7888391 ]),\n",
              "  'test_score': array([0.60976911, 0.54717176, 0.49711709, 0.53943994, 0.54554999])},\n",
              " 0.5478095782501665)"
            ]
          },
          "metadata": {},
          "execution_count": 11
        }
      ]
    },
    {
      "cell_type": "code",
      "source": [
        "from sklearn.preprocessing import StandardScaler\n",
        "from sklearn.feature_selection import SelectFromModel\n",
        "from sklearn.svm import LinearSVC\n",
        "from sklearn.model_selection import cross_validate\n",
        "from sklearn.ensemble import RandomForestClassifier\n",
        "import numpy as np\n",
        "from sklearn.pipeline import Pipeline\n",
        "from sklearn.feature_selection import VarianceThreshold\n",
        "\n",
        "modelo = Pipeline([\n",
        "    ('sclr', StandardScaler()),\n",
        "    ('fsvar', VarianceThreshold(threshold=0.01)),\n",
        "    ('fs', SelectFromModel(LinearSVC())),\n",
        "    ('clf', RandomForestClassifier())\n",
        "])\n",
        "scores = cross_validate(modelo, X, y)\n",
        "scores, np.mean(scores['test_score'])"
      ],
      "metadata": {
        "id": "0u0RV0KcHI5M"
      },
      "execution_count": null,
      "outputs": []
    },
    {
      "cell_type": "code",
      "source": [
        "from sklearn.feature_selection import RFE\n",
        "from sklearn.svm import LinearSVC\n",
        "\n",
        "modelo = Pipeline([\n",
        "    ('sclr', StandardScaler()),\n",
        "    ('fsvar', VarianceThreshold(threshold=0.01)),\n",
        "    ('fs', RFE(LinearSVC(penalty='l1', dual=False))),\n",
        "    ('clf', RandomForestClassifier())\n",
        "])\n",
        "scores = cross_validate(modelo, X, y)\n",
        "scores, np.mean(scores['test_score'])"
      ],
      "metadata": {
        "id": "3Wu6rmpCKG4H"
      },
      "execution_count": null,
      "outputs": []
    },
    {
      "cell_type": "code",
      "source": [
        "from sklearn.preprocessing import StandardScaler\n",
        "from sklearn.feature_selection import SelectFromModel\n",
        "from sklearn.svm import LinearSVC\n",
        "from sklearn.model_selection import cross_validate\n",
        "from sklearn.ensemble import RandomForestClassifier\n",
        "import numpy as np\n",
        "from sklearn.pipeline import Pipeline\n",
        "from sklearn.feature_selection import VarianceThreshold\n",
        "from sklearn.feature_selection import SequentialFeatureSelector\n",
        "from sklearn.neighbors import KNeighborsClassifier\n",
        "\n",
        "modelo = Pipeline([\n",
        "    ('sclr', StandardScaler()),\n",
        "    ('fsvar', VarianceThreshold(threshold=0.01)),\n",
        "    ('fs', SequentialFeatureSelector(KNeighborsClassifier(n_neighbors=3))),\n",
        "    ('clf', RandomForestClassifier())\n",
        "])\n",
        "scores = cross_validate(modelo, X, y, verbose=1)\n",
        "scores, np.mean(scores['test_score'])"
      ],
      "metadata": {
        "colab": {
          "base_uri": "https://localhost:8080/"
        },
        "id": "O_w24U_fKtZT",
        "outputId": "05273704-543b-434b-b3dc-7d212af20840"
      },
      "execution_count": null,
      "outputs": [
        {
          "output_type": "stream",
          "name": "stderr",
          "text": [
            "/usr/local/lib/python3.10/dist-packages/sklearn/feature_selection/_sequential.py:211: FutureWarning: Leaving `n_features_to_select` to None is deprecated in 1.0 and will become 'auto' in 1.3. To keep the same behaviour as with None (i.e. select half of the features) and avoid this warning, you should manually set `n_features_to_select='auto'` and set tol=None when creating an instance.\n",
            "  warnings.warn(\n"
          ]
        }
      ]
    }
  ]
}