{
  "nbformat": 4,
  "nbformat_minor": 0,
  "metadata": {
    "colab": {
      "provenance": [],
      "include_colab_link": true
    },
    "kernelspec": {
      "name": "python3",
      "display_name": "Python 3"
    },
    "language_info": {
      "name": "python"
    }
  },
  "cells": [
    {
      "cell_type": "markdown",
      "metadata": {
        "id": "view-in-github",
        "colab_type": "text"
      },
      "source": [
        "<a href=\"https://colab.research.google.com/github/marcelogarret/reconpad/blob/main/aula5a_gridsearch_garret_v3.ipynb\" target=\"_parent\"><img src=\"https://colab.research.google.com/assets/colab-badge.svg\" alt=\"Open In Colab\"/></a>"
      ]
    },
    {
      "cell_type": "code",
      "execution_count": 1,
      "metadata": {
        "colab": {
          "base_uri": "https://localhost:8080/"
        },
        "id": "AyN2WQKJbptW",
        "outputId": "4a02f189-6f86-43c9-8ee2-7a77cae4a6e9"
      },
      "outputs": [
        {
          "output_type": "execute_result",
          "data": {
            "text/plain": [
              "((442, 10), (442,))"
            ]
          },
          "metadata": {},
          "execution_count": 1
        }
      ],
      "source": [
        "## Importando o dataset\n",
        "from sklearn.datasets import load_diabetes\n",
        "X, y = load_diabetes(return_X_y=True)\n",
        "X.shape, y.shape"
      ]
    },
    {
      "cell_type": "code",
      "source": [
        "## Importando bibliotecas de seleção de modelos, métricas, pré-processamento e pipeline\n",
        "from sklearn.metrics import mean_squared_error, make_scorer\n",
        "from sklearn.model_selection import cross_validate, RepeatedKFold\n",
        "from sklearn.neighbors import KNeighborsRegressor\n",
        "from sklearn.model_selection import GridSearchCV\n",
        "from sklearn.preprocessing import StandardScaler\n",
        "from sklearn.pipeline import Pipeline\n",
        "import numpy as np\n",
        "\n",
        "## Configuração 1 do Pipeline ##\n",
        "## Construindo o Pipeline com o pré-processamento e o modelo de regressão Knn\n",
        "pipe = Pipeline([\n",
        "    ('scaler', StandardScaler()),\n",
        "    ('clf', KNeighborsRegressor())\n",
        "])\n",
        "\n",
        "## Definindo parãmetros de ajuste\n",
        "param = {'scaler__with_mean': [True, False],\n",
        "         'scaler__with_std': [True, False],\n",
        "         'clf__n_neighbors': [1, 3, 5]}\n",
        "\n",
        "## Definindo modelo aninhado com Pipeline interno ao GridSearchcV\n",
        "modeloAninhado = GridSearchCV(pipe, param, verbose=0, cv=5,\n",
        "                      scoring=make_scorer(mean_squared_error,\n",
        "                                          greater_is_better=False,\n",
        "                                          squared=False))\n",
        "\n",
        "## Realizando a validação cruzada com 5 folds e retornando o resultado do treinamento\n",
        "scores = cross_validate(modeloAninhado, X, y, cv=5, return_estimator=True,\n",
        "                        scoring=make_scorer(mean_squared_error, squared=False), return_train_score=True)\n",
        "\n",
        "## Comparando o resultado médio dos treinamentos e dos testes da validação cruzada\n",
        "print(f\"RMSE Treinamento = {np.mean(scores['train_score'])}\\nRMSE Teste = {np.mean(scores['test_score'])}\")"
      ],
      "metadata": {
        "colab": {
          "base_uri": "https://localhost:8080/"
        },
        "id": "ZKSrexSdfkkq",
        "outputId": "3ac6ae35-0772-410d-8402-443bd39bac53"
      },
      "execution_count": 2,
      "outputs": [
        {
          "output_type": "stream",
          "name": "stdout",
          "text": [
            "RMSE Treinamento = 49.279290542124045\n",
            "RMSE Teste = 60.26724369587026\n"
          ]
        }
      ]
    },
    {
      "cell_type": "code",
      "source": [
        "## Configuração 2 do Pipeline ##\n",
        "\n",
        "## Definindo parãmetros de ajuste\n",
        "param2 = {'n_neighbors': [1, 3, 5]}\n",
        "\n",
        "## Definindo modelo de GridSearach com KNN\n",
        "GridSearchKNN = GridSearchCV(KNeighborsRegressor(), param2, verbose=0, cv=5,\n",
        "                      scoring=make_scorer(mean_squared_error,\n",
        "                                          greater_is_better=False,\n",
        "                                          squared=False))\n",
        "\n",
        "## Construindo o Pipeline com o pré-processamento e o modelo de GridSearchKNN\n",
        "modeloAninhado2 = Pipeline([\n",
        "    ('scaler', StandardScaler()),\n",
        "    ('clf', GridSearchKNN)\n",
        "])\n",
        "\n",
        "## Realizando a validação cruzada com 5 folds e retornando o resultado do treinamento\n",
        "scores = cross_validate(modeloAninhado2, X, y, cv=5, return_estimator=True,\n",
        "                        scoring=make_scorer(mean_squared_error, squared=False), return_train_score=True)\n",
        "\n",
        "## Comparando o resultado médio dos treinamentos e dos testes da validação cruzada\n",
        "print(f\"RMSE Treinamento = {np.mean(scores['train_score'])}\\nRMSE Teste = {np.mean(scores['test_score'])}\")"
      ],
      "metadata": {
        "colab": {
          "base_uri": "https://localhost:8080/"
        },
        "id": "rIjQLOpRVO7x",
        "outputId": "e8c6e465-947c-466c-a07c-9db1f9dfb8f7"
      },
      "execution_count": 3,
      "outputs": [
        {
          "output_type": "stream",
          "name": "stdout",
          "text": [
            "RMSE Treinamento = 49.506690555367115\n",
            "RMSE Teste = 60.45860455510717\n"
          ]
        }
      ]
    }
  ]
}