{
  "nbformat": 4,
  "nbformat_minor": 0,
  "metadata": {
    "colab": {
      "provenance": [],
      "include_colab_link": true
    },
    "kernelspec": {
      "name": "python3",
      "display_name": "Python 3"
    },
    "language_info": {
      "name": "python"
    }
  },
  "cells": [
    {
      "cell_type": "markdown",
      "metadata": {
        "id": "view-in-github",
        "colab_type": "text"
      },
      "source": [
        "<a href=\"https://colab.research.google.com/github/marcelogarret/reconpad/blob/main/aula5a_gridsearch_garret_v3.ipynb\" target=\"_parent\"><img src=\"https://colab.research.google.com/assets/colab-badge.svg\" alt=\"Open In Colab\"/></a>"
      ]
    },
    {
      "cell_type": "markdown",
      "source": [
        "# Replicando solução feita na aula"
      ],
      "metadata": {
        "id": "r_YSQb9YMIoM"
      }
    },
    {
      "cell_type": "code",
      "execution_count": 1,
      "metadata": {
        "id": "AyN2WQKJbptW",
        "colab": {
          "base_uri": "https://localhost:8080/"
        },
        "outputId": "3de5b62f-a123-4aac-d4d1-cd8cf40be54c"
      },
      "outputs": [
        {
          "output_type": "execute_result",
          "data": {
            "text/plain": [
              "((20640, 8), (20640,))"
            ]
          },
          "metadata": {},
          "execution_count": 1
        }
      ],
      "source": [
        "## Importando o dataset\n",
        "from sklearn.datasets import fetch_california_housing\n",
        "X, y = fetch_california_housing(return_X_y=True)\n",
        "X.shape, y.shape"
      ]
    },
    {
      "cell_type": "code",
      "source": [
        "## Importando bibliotecas de seleção de modelos, métricas, pré-processamento e pipeline\n",
        "from sklearn.metrics import mean_squared_error, make_scorer\n",
        "from sklearn.model_selection import cross_validate, RepeatedKFold\n",
        "from sklearn.neighbors import KNeighborsRegressor\n",
        "from sklearn.model_selection import GridSearchCV\n",
        "from sklearn.preprocessing import StandardScaler\n",
        "from sklearn.pipeline import Pipeline\n",
        "import numpy as np\n",
        "\n",
        "## Configuração 1 do Pipeline ##\n",
        "\n",
        "## Definindo parãmetros de ajuste\n",
        "param1 = {'n_neighbors': [1, 7, 15],\n",
        "          'metric': ['cosine', 'cityblock', 'euclidean']}\n",
        "\n",
        "## Definindo modelo de GridSearach\n",
        "GSModel = GridSearchCV(KNeighborsRegressor(), param1, verbose=0, cv=5,\n",
        "                      scoring=make_scorer(mean_squared_error,\n",
        "                                          greater_is_better=False,\n",
        "                                          squared=False))\n",
        "\n",
        "## Construindo o Pipeline com o pré-processamento e o modelo de GridSearchKNN\n",
        "modeloAninhado1 = Pipeline([\n",
        "    ('pre', StandardScaler()),\n",
        "    ('clf', GSModel)\n",
        "])\n",
        "\n",
        "## Realizando a validação cruzada com 5 folds e retornando o resultado do treinamento\n",
        "scores1 = cross_validate(modeloAninhado1, X, y, cv=5, return_estimator=True,\n",
        "                        scoring=make_scorer(mean_squared_error, squared=False), return_train_score=True)\n",
        "\n",
        "## Comparando o resultado médio dos treinamentos e dos testes da validação cruzada\n",
        "print(f\"RMSE = {np.mean(scores1['test_score'])}\")"
      ],
      "metadata": {
        "colab": {
          "base_uri": "https://localhost:8080/"
        },
        "id": "2bg3EkYu6zhq",
        "outputId": "75f7852f-0daa-4a1f-e657-0d58954b7adf"
      },
      "execution_count": 2,
      "outputs": [
        {
          "output_type": "stream",
          "name": "stdout",
          "text": [
            "RMSE = 0.7449313603008859\n"
          ]
        }
      ]
    },
    {
      "cell_type": "code",
      "source": [
        "## Configuração 2 do Pipeline ##\n",
        "## Construindo o Pipeline com o pré-processamento e o modelo de regressão Knn\n",
        "pipe = Pipeline([\n",
        "    ('pre', StandardScaler()),\n",
        "    ('clf', KNeighborsRegressor())\n",
        "])\n",
        "\n",
        "## Definindo parãmetros de ajuste\n",
        "param2 = {'pre__with_mean': [True, False],\n",
        "         'clf__n_neighbors': [1, 7, 15],\n",
        "         'clf__metric': ['cosine', 'cityblock', 'euclidean']}\n",
        "\n",
        "## Definindo modelo aninhado com Pipeline interno ao GridSearchcV\n",
        "modeloAninhado2 = GridSearchCV(pipe, param2, verbose=0, cv=5,\n",
        "                      scoring=make_scorer(mean_squared_error,\n",
        "                                          greater_is_better=False,\n",
        "                                          squared=False))\n",
        "\n",
        "## Realizando a validação cruzada com 5 folds e retornando o resultado do treinamento\n",
        "scores2 = cross_validate(modeloAninhado2, X, y, cv=5, return_estimator=True,\n",
        "                        scoring=make_scorer(mean_squared_error, squared=False))\n",
        "\n",
        "## Comparando o resultado médio dos treinamentos e dos testes da validação cruzada\n",
        "print(f\"RMSE = {np.mean(scores2['test_score'])}\")"
      ],
      "metadata": {
        "colab": {
          "base_uri": "https://localhost:8080/"
        },
        "id": "ZKSrexSdfkkq",
        "outputId": "7a8c8b1e-0b29-4373-8f11-312e94ace916"
      },
      "execution_count": 3,
      "outputs": [
        {
          "output_type": "stream",
          "name": "stdout",
          "text": [
            "RMSE = 0.7449313603008859\n"
          ]
        }
      ]
    },
    {
      "cell_type": "markdown",
      "source": [
        "**Podemos observar que resultado divergiu do obtido em sala de aula, uma vez que em ambos os métodos o resultado de RMSE foram similares. Após voltar para o arquivo original compartilhado na tarefa, pude notar que em um dos casos foi usado o cross_validate com o dataset inteiro (X, y), enquanto que no outro caso foi usado o cross_validate com o split de treinamento do dataset original (Xtr, ytr), o prejudica a comparação direta dos resultados.![aula5verificacao.png](data:image/png;base64,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)**"
      ],
      "metadata": {
        "id": "atVNx47mMaap"
      }
    },
    {
      "cell_type": "markdown",
      "source": [
        "# Solução alternativa 1"
      ],
      "metadata": {
        "id": "Ya2LqOqMOR-m"
      }
    },
    {
      "cell_type": "code",
      "source": [
        "## Importando o dataset\n",
        "from seaborn import load_dataset\n",
        "import pandas as pd\n",
        "df = load_dataset('penguins')\n",
        "df = df.dropna()"
      ],
      "metadata": {
        "id": "71njnzvrORcL"
      },
      "execution_count": 4,
      "outputs": []
    },
    {
      "cell_type": "code",
      "source": [
        "df.head()"
      ],
      "metadata": {
        "colab": {
          "base_uri": "https://localhost:8080/",
          "height": 206
        },
        "id": "41zRT7YHOuVH",
        "outputId": "77d6e286-b040-4889-855f-94dc52c0e076"
      },
      "execution_count": 5,
      "outputs": [
        {
          "output_type": "execute_result",
          "data": {
            "text/plain": [
              "  species     island  bill_length_mm  bill_depth_mm  flipper_length_mm  \\\n",
              "0  Adelie  Torgersen            39.1           18.7              181.0   \n",
              "1  Adelie  Torgersen            39.5           17.4              186.0   \n",
              "2  Adelie  Torgersen            40.3           18.0              195.0   \n",
              "4  Adelie  Torgersen            36.7           19.3              193.0   \n",
              "5  Adelie  Torgersen            39.3           20.6              190.0   \n",
              "\n",
              "   body_mass_g     sex  \n",
              "0       3750.0    Male  \n",
              "1       3800.0  Female  \n",
              "2       3250.0  Female  \n",
              "4       3450.0  Female  \n",
              "5       3650.0    Male  "
            ],
            "text/html": [
              "\n",
              "  <div id=\"df-ba801d2c-2bd1-4c63-8aeb-ff3a7b97a741\" class=\"colab-df-container\">\n",
              "    <div>\n",
              "<style scoped>\n",
              "    .dataframe tbody tr th:only-of-type {\n",
              "        vertical-align: middle;\n",
              "    }\n",
              "\n",
              "    .dataframe tbody tr th {\n",
              "        vertical-align: top;\n",
              "    }\n",
              "\n",
              "    .dataframe thead th {\n",
              "        text-align: right;\n",
              "    }\n",
              "</style>\n",
              "<table border=\"1\" class=\"dataframe\">\n",
              "  <thead>\n",
              "    <tr style=\"text-align: right;\">\n",
              "      <th></th>\n",
              "      <th>species</th>\n",
              "      <th>island</th>\n",
              "      <th>bill_length_mm</th>\n",
              "      <th>bill_depth_mm</th>\n",
              "      <th>flipper_length_mm</th>\n",
              "      <th>body_mass_g</th>\n",
              "      <th>sex</th>\n",
              "    </tr>\n",
              "  </thead>\n",
              "  <tbody>\n",
              "    <tr>\n",
              "      <th>0</th>\n",
              "      <td>Adelie</td>\n",
              "      <td>Torgersen</td>\n",
              "      <td>39.1</td>\n",
              "      <td>18.7</td>\n",
              "      <td>181.0</td>\n",
              "      <td>3750.0</td>\n",
              "      <td>Male</td>\n",
              "    </tr>\n",
              "    <tr>\n",
              "      <th>1</th>\n",
              "      <td>Adelie</td>\n",
              "      <td>Torgersen</td>\n",
              "      <td>39.5</td>\n",
              "      <td>17.4</td>\n",
              "      <td>186.0</td>\n",
              "      <td>3800.0</td>\n",
              "      <td>Female</td>\n",
              "    </tr>\n",
              "    <tr>\n",
              "      <th>2</th>\n",
              "      <td>Adelie</td>\n",
              "      <td>Torgersen</td>\n",
              "      <td>40.3</td>\n",
              "      <td>18.0</td>\n",
              "      <td>195.0</td>\n",
              "      <td>3250.0</td>\n",
              "      <td>Female</td>\n",
              "    </tr>\n",
              "    <tr>\n",
              "      <th>4</th>\n",
              "      <td>Adelie</td>\n",
              "      <td>Torgersen</td>\n",
              "      <td>36.7</td>\n",
              "      <td>19.3</td>\n",
              "      <td>193.0</td>\n",
              "      <td>3450.0</td>\n",
              "      <td>Female</td>\n",
              "    </tr>\n",
              "    <tr>\n",
              "      <th>5</th>\n",
              "      <td>Adelie</td>\n",
              "      <td>Torgersen</td>\n",
              "      <td>39.3</td>\n",
              "      <td>20.6</td>\n",
              "      <td>190.0</td>\n",
              "      <td>3650.0</td>\n",
              "      <td>Male</td>\n",
              "    </tr>\n",
              "  </tbody>\n",
              "</table>\n",
              "</div>\n",
              "    <div class=\"colab-df-buttons\">\n",
              "\n",
              "  <div class=\"colab-df-container\">\n",
              "    <button class=\"colab-df-convert\" onclick=\"convertToInteractive('df-ba801d2c-2bd1-4c63-8aeb-ff3a7b97a741')\"\n",
              "            title=\"Convert this dataframe to an interactive table.\"\n",
              "            style=\"display:none;\">\n",
              "\n",
              "  <svg xmlns=\"http://www.w3.org/2000/svg\" height=\"24px\" viewBox=\"0 -960 960 960\">\n",
              "    <path d=\"M120-120v-720h720v720H120Zm60-500h600v-160H180v160Zm220 220h160v-160H400v160Zm0 220h160v-160H400v160ZM180-400h160v-160H180v160Zm440 0h160v-160H620v160ZM180-180h160v-160H180v160Zm440 0h160v-160H620v160Z\"/>\n",
              "  </svg>\n",
              "    </button>\n",
              "\n",
              "  <style>\n",
              "    .colab-df-container {\n",
              "      display:flex;\n",
              "      gap: 12px;\n",
              "    }\n",
              "\n",
              "    .colab-df-convert {\n",
              "      background-color: #E8F0FE;\n",
              "      border: none;\n",
              "      border-radius: 50%;\n",
              "      cursor: pointer;\n",
              "      display: none;\n",
              "      fill: #1967D2;\n",
              "      height: 32px;\n",
              "      padding: 0 0 0 0;\n",
              "      width: 32px;\n",
              "    }\n",
              "\n",
              "    .colab-df-convert:hover {\n",
              "      background-color: #E2EBFA;\n",
              "      box-shadow: 0px 1px 2px rgba(60, 64, 67, 0.3), 0px 1px 3px 1px rgba(60, 64, 67, 0.15);\n",
              "      fill: #174EA6;\n",
              "    }\n",
              "\n",
              "    .colab-df-buttons div {\n",
              "      margin-bottom: 4px;\n",
              "    }\n",
              "\n",
              "    [theme=dark] .colab-df-convert {\n",
              "      background-color: #3B4455;\n",
              "      fill: #D2E3FC;\n",
              "    }\n",
              "\n",
              "    [theme=dark] .colab-df-convert:hover {\n",
              "      background-color: #434B5C;\n",
              "      box-shadow: 0px 1px 3px 1px rgba(0, 0, 0, 0.15);\n",
              "      filter: drop-shadow(0px 1px 2px rgba(0, 0, 0, 0.3));\n",
              "      fill: #FFFFFF;\n",
              "    }\n",
              "  </style>\n",
              "\n",
              "    <script>\n",
              "      const buttonEl =\n",
              "        document.querySelector('#df-ba801d2c-2bd1-4c63-8aeb-ff3a7b97a741 button.colab-df-convert');\n",
              "      buttonEl.style.display =\n",
              "        google.colab.kernel.accessAllowed ? 'block' : 'none';\n",
              "\n",
              "      async function convertToInteractive(key) {\n",
              "        const element = document.querySelector('#df-ba801d2c-2bd1-4c63-8aeb-ff3a7b97a741');\n",
              "        const dataTable =\n",
              "          await google.colab.kernel.invokeFunction('convertToInteractive',\n",
              "                                                    [key], {});\n",
              "        if (!dataTable) return;\n",
              "\n",
              "        const docLinkHtml = 'Like what you see? Visit the ' +\n",
              "          '<a target=\"_blank\" href=https://colab.research.google.com/notebooks/data_table.ipynb>data table notebook</a>'\n",
              "          + ' to learn more about interactive tables.';\n",
              "        element.innerHTML = '';\n",
              "        dataTable['output_type'] = 'display_data';\n",
              "        await google.colab.output.renderOutput(dataTable, element);\n",
              "        const docLink = document.createElement('div');\n",
              "        docLink.innerHTML = docLinkHtml;\n",
              "        element.appendChild(docLink);\n",
              "      }\n",
              "    </script>\n",
              "  </div>\n",
              "\n",
              "\n",
              "<div id=\"df-2ba9f806-e0d4-4ec3-804f-7a9250930df1\">\n",
              "  <button class=\"colab-df-quickchart\" onclick=\"quickchart('df-2ba9f806-e0d4-4ec3-804f-7a9250930df1')\"\n",
              "            title=\"Suggest charts.\"\n",
              "            style=\"display:none;\">\n",
              "\n",
              "<svg xmlns=\"http://www.w3.org/2000/svg\" height=\"24px\"viewBox=\"0 0 24 24\"\n",
              "     width=\"24px\">\n",
              "    <g>\n",
              "        <path d=\"M19 3H5c-1.1 0-2 .9-2 2v14c0 1.1.9 2 2 2h14c1.1 0 2-.9 2-2V5c0-1.1-.9-2-2-2zM9 17H7v-7h2v7zm4 0h-2V7h2v10zm4 0h-2v-4h2v4z\"/>\n",
              "    </g>\n",
              "</svg>\n",
              "  </button>\n",
              "\n",
              "<style>\n",
              "  .colab-df-quickchart {\n",
              "      --bg-color: #E8F0FE;\n",
              "      --fill-color: #1967D2;\n",
              "      --hover-bg-color: #E2EBFA;\n",
              "      --hover-fill-color: #174EA6;\n",
              "      --disabled-fill-color: #AAA;\n",
              "      --disabled-bg-color: #DDD;\n",
              "  }\n",
              "\n",
              "  [theme=dark] .colab-df-quickchart {\n",
              "      --bg-color: #3B4455;\n",
              "      --fill-color: #D2E3FC;\n",
              "      --hover-bg-color: #434B5C;\n",
              "      --hover-fill-color: #FFFFFF;\n",
              "      --disabled-bg-color: #3B4455;\n",
              "      --disabled-fill-color: #666;\n",
              "  }\n",
              "\n",
              "  .colab-df-quickchart {\n",
              "    background-color: var(--bg-color);\n",
              "    border: none;\n",
              "    border-radius: 50%;\n",
              "    cursor: pointer;\n",
              "    display: none;\n",
              "    fill: var(--fill-color);\n",
              "    height: 32px;\n",
              "    padding: 0;\n",
              "    width: 32px;\n",
              "  }\n",
              "\n",
              "  .colab-df-quickchart:hover {\n",
              "    background-color: var(--hover-bg-color);\n",
              "    box-shadow: 0 1px 2px rgba(60, 64, 67, 0.3), 0 1px 3px 1px rgba(60, 64, 67, 0.15);\n",
              "    fill: var(--button-hover-fill-color);\n",
              "  }\n",
              "\n",
              "  .colab-df-quickchart-complete:disabled,\n",
              "  .colab-df-quickchart-complete:disabled:hover {\n",
              "    background-color: var(--disabled-bg-color);\n",
              "    fill: var(--disabled-fill-color);\n",
              "    box-shadow: none;\n",
              "  }\n",
              "\n",
              "  .colab-df-spinner {\n",
              "    border: 2px solid var(--fill-color);\n",
              "    border-color: transparent;\n",
              "    border-bottom-color: var(--fill-color);\n",
              "    animation:\n",
              "      spin 1s steps(1) infinite;\n",
              "  }\n",
              "\n",
              "  @keyframes spin {\n",
              "    0% {\n",
              "      border-color: transparent;\n",
              "      border-bottom-color: var(--fill-color);\n",
              "      border-left-color: var(--fill-color);\n",
              "    }\n",
              "    20% {\n",
              "      border-color: transparent;\n",
              "      border-left-color: var(--fill-color);\n",
              "      border-top-color: var(--fill-color);\n",
              "    }\n",
              "    30% {\n",
              "      border-color: transparent;\n",
              "      border-left-color: var(--fill-color);\n",
              "      border-top-color: var(--fill-color);\n",
              "      border-right-color: var(--fill-color);\n",
              "    }\n",
              "    40% {\n",
              "      border-color: transparent;\n",
              "      border-right-color: var(--fill-color);\n",
              "      border-top-color: var(--fill-color);\n",
              "    }\n",
              "    60% {\n",
              "      border-color: transparent;\n",
              "      border-right-color: var(--fill-color);\n",
              "    }\n",
              "    80% {\n",
              "      border-color: transparent;\n",
              "      border-right-color: var(--fill-color);\n",
              "      border-bottom-color: var(--fill-color);\n",
              "    }\n",
              "    90% {\n",
              "      border-color: transparent;\n",
              "      border-bottom-color: var(--fill-color);\n",
              "    }\n",
              "  }\n",
              "</style>\n",
              "\n",
              "  <script>\n",
              "    async function quickchart(key) {\n",
              "      const quickchartButtonEl =\n",
              "        document.querySelector('#' + key + ' button');\n",
              "      quickchartButtonEl.disabled = true;  // To prevent multiple clicks.\n",
              "      quickchartButtonEl.classList.add('colab-df-spinner');\n",
              "      try {\n",
              "        const charts = await google.colab.kernel.invokeFunction(\n",
              "            'suggestCharts', [key], {});\n",
              "      } catch (error) {\n",
              "        console.error('Error during call to suggestCharts:', error);\n",
              "      }\n",
              "      quickchartButtonEl.classList.remove('colab-df-spinner');\n",
              "      quickchartButtonEl.classList.add('colab-df-quickchart-complete');\n",
              "    }\n",
              "    (() => {\n",
              "      let quickchartButtonEl =\n",
              "        document.querySelector('#df-2ba9f806-e0d4-4ec3-804f-7a9250930df1 button');\n",
              "      quickchartButtonEl.style.display =\n",
              "        google.colab.kernel.accessAllowed ? 'block' : 'none';\n",
              "    })();\n",
              "  </script>\n",
              "</div>\n",
              "    </div>\n",
              "  </div>\n"
            ]
          },
          "metadata": {},
          "execution_count": 5
        }
      ]
    },
    {
      "cell_type": "code",
      "source": [
        "X, y = df[df.columns[0:(len(df.columns)-1)]].to_numpy(), df[df.columns[(len(df.columns)-1)]].replace({'Male':1, 'Female':0}).to_numpy()\n",
        "X.shape, y.shape"
      ],
      "metadata": {
        "colab": {
          "base_uri": "https://localhost:8080/"
        },
        "id": "4sJCQzSYOwAP",
        "outputId": "cf432330-e74f-4232-97c0-00b9ab0ca06c"
      },
      "execution_count": 6,
      "outputs": [
        {
          "output_type": "execute_result",
          "data": {
            "text/plain": [
              "((333, 6), (333,))"
            ]
          },
          "metadata": {},
          "execution_count": 6
        }
      ]
    },
    {
      "cell_type": "code",
      "source": [
        "## Importando bibliotecas de seleção de modelos, métricas, pré-processamento e pipeline\n",
        "from sklearn.metrics import mean_squared_error, make_scorer\n",
        "from sklearn.model_selection import cross_validate, RepeatedKFold\n",
        "from sklearn.neighbors import KNeighborsClassifier\n",
        "from sklearn.model_selection import GridSearchCV\n",
        "from sklearn.preprocessing import OneHotEncoder\n",
        "from sklearn.pipeline import Pipeline\n",
        "import numpy as np\n",
        "\n",
        "## Configuração 1 do Pipeline ##\n",
        "\n",
        "## Definindo parãmetros de ajuste\n",
        "param1 = {'n_neighbors': [1, 3, 5]}\n",
        "\n",
        "## Definindo modelo de GridSearach com KNN\n",
        "GridSearchKNN = GridSearchCV(KNeighborsClassifier(), param1, verbose=0, cv=5,\n",
        "                      scoring=make_scorer(mean_squared_error,\n",
        "                                          greater_is_better=False,\n",
        "                                          squared=False))\n",
        "\n",
        "## Construindo o Pipeline com o pré-processamento e o modelo de GridSearchKNN\n",
        "modeloAninhado1 = Pipeline([\n",
        "    ('pre', OneHotEncoder(handle_unknown='ignore')),\n",
        "    ('clf', GridSearchKNN)\n",
        "])\n",
        "\n",
        "## Realizando a validação cruzada com 5 folds e retornando o resultado do treinamento\n",
        "scores1 = cross_validate(modeloAninhado1, X, y, cv=5, return_estimator=True,\n",
        "                        scoring=make_scorer(mean_squared_error, squared=False), return_train_score=True)\n",
        "\n",
        "## Comparando o resultado médio dos treinamentos e dos testes da validação cruzada\n",
        "print(f\"RMSE = {np.mean(scores1['test_score'])}\")"
      ],
      "metadata": {
        "colab": {
          "base_uri": "https://localhost:8080/"
        },
        "id": "uSVWbT-9OyDY",
        "outputId": "b682029e-cf5d-4b4c-897e-ea61fa7a5edc"
      },
      "execution_count": 7,
      "outputs": [
        {
          "output_type": "stream",
          "name": "stdout",
          "text": [
            "RMSE = 0.5617532198709724\n"
          ]
        }
      ]
    },
    {
      "cell_type": "code",
      "source": [
        "## Configuração 2 do Pipeline ##\n",
        "## Construindo o Pipeline com o pré-processamento e o modelo de regressão Knn\n",
        "pipe = Pipeline([\n",
        "    ('pre', OneHotEncoder(handle_unknown='ignore')),\n",
        "    ('clf', KNeighborsClassifier())\n",
        "])\n",
        "\n",
        "## Definindo parãmetros de ajuste\n",
        "param2 = {'pre__sparse_output': [True, False],\n",
        "         'pre__min_frequency': [1, 5, 10],\n",
        "         'clf__n_neighbors': [1, 3, 5]}\n",
        "\n",
        "## Definindo modelo aninhado com Pipeline interno ao GridSearchcV\n",
        "modeloAninhado2 = GridSearchCV(pipe, param2, verbose=0, cv=5,\n",
        "                      scoring=make_scorer(mean_squared_error,\n",
        "                                          greater_is_better=False,\n",
        "                                          squared=False))\n",
        "\n",
        "## Realizando a validação cruzada com 5 folds e retornando o resultado do treinamento\n",
        "scores2 = cross_validate(modeloAninhado2, X, y, cv=5, return_estimator=True,\n",
        "                        scoring=make_scorer(mean_squared_error, squared=False))\n",
        "\n",
        "## Comparando o resultado médio dos treinamentos e dos testes da validação cruzada\n",
        "print(f\"RMSE = {np.mean(scores2['test_score'])}\")"
      ],
      "metadata": {
        "colab": {
          "base_uri": "https://localhost:8080/"
        },
        "id": "aWAVQjt6O_r6",
        "outputId": "6b76446b-b926-4def-d6dc-8969f2dbf516"
      },
      "execution_count": 8,
      "outputs": [
        {
          "output_type": "stream",
          "name": "stdout",
          "text": [
            "RMSE = 0.5617532198709724\n"
          ]
        }
      ]
    },
    {
      "cell_type": "markdown",
      "source": [
        "# Solução Alternativa 2"
      ],
      "metadata": {
        "id": "LdLRvBxZPSwo"
      }
    },
    {
      "cell_type": "code",
      "source": [
        "## Importando o dataset\n",
        "from sklearn.datasets import load_wine\n",
        "X, y = load_wine(return_X_y=True)\n",
        "X.shape, y.shape"
      ],
      "metadata": {
        "colab": {
          "base_uri": "https://localhost:8080/"
        },
        "id": "tMqIJzuGPGlV",
        "outputId": "46aac4e9-de1a-495d-e09f-4d943594947b"
      },
      "execution_count": 9,
      "outputs": [
        {
          "output_type": "execute_result",
          "data": {
            "text/plain": [
              "((178, 13), (178,))"
            ]
          },
          "metadata": {},
          "execution_count": 9
        }
      ]
    },
    {
      "cell_type": "code",
      "source": [
        "## Importando bibliotecas de seleção de modelos, métricas, pré-processamento e pipeline\n",
        "from sklearn.metrics import mean_squared_error, make_scorer\n",
        "from sklearn.model_selection import cross_validate, RepeatedKFold\n",
        "from sklearn.linear_model import Perceptron\n",
        "from sklearn.model_selection import GridSearchCV\n",
        "from sklearn.preprocessing import StandardScaler\n",
        "from sklearn.pipeline import Pipeline\n",
        "import numpy as np\n",
        "\n",
        "## Configuração 1 do Pipeline ##\n",
        "\n",
        "## Definindo parãmetros de ajuste\n",
        "param1 = {'alpha': [0.0001, 0.001, 0.01]}\n",
        "\n",
        "## Definindo modelo de GridSearach com KNN\n",
        "GridSearchKNN = GridSearchCV(Perceptron(), param1, verbose=0, cv=5,\n",
        "                      scoring=make_scorer(mean_squared_error,\n",
        "                                          greater_is_better=False,\n",
        "                                          squared=False))\n",
        "\n",
        "## Construindo o Pipeline com o pré-processamento e o modelo de GridSearchKNN\n",
        "modeloAninhado1 = Pipeline([\n",
        "    # ('pre', StandardScaler()),\n",
        "    ('clf', GridSearchKNN)\n",
        "])\n",
        "\n",
        "## Realizando a validação cruzada com 5 folds e retornando o resultado do treinamento\n",
        "scores1 = cross_validate(modeloAninhado1, X, y, cv=5, return_estimator=True,\n",
        "                        scoring=make_scorer(mean_squared_error, squared=False), return_train_score=True)\n",
        "\n",
        "## Comparando o resultado médio dos treinamentos e dos testes da validação cruzada\n",
        "print(f\"RMSE = {np.mean(scores1['test_score'])}\")"
      ],
      "metadata": {
        "colab": {
          "base_uri": "https://localhost:8080/"
        },
        "id": "aE3GnMJTPlv2",
        "outputId": "3fc2066d-e8c4-4e3a-8cd1-e1876272ab37"
      },
      "execution_count": 10,
      "outputs": [
        {
          "output_type": "stream",
          "name": "stdout",
          "text": [
            "RMSE = 0.9105529643583333\n"
          ]
        }
      ]
    },
    {
      "cell_type": "code",
      "source": [
        "## Configuração 2 do Pipeline ##\n",
        "## Construindo o Pipeline com o pré-processamento e o modelo de regressão Knn\n",
        "pipe = Pipeline([\n",
        "    ('pre', StandardScaler()),\n",
        "    ('clf', Perceptron())\n",
        "])\n",
        "\n",
        "## Definindo parãmetros de ajuste\n",
        "param2 = {'pre__with_mean': [True, False],\n",
        "          'clf__alpha': [0.0001, 0.001, 0.01]}\n",
        "\n",
        "## Definindo modelo aninhado com Pipeline interno ao GridSearchcV\n",
        "modeloAninhado2 = GridSearchCV(pipe, param2, verbose=0, cv=5,\n",
        "                      scoring=make_scorer(mean_squared_error,\n",
        "                                          greater_is_better=False,\n",
        "                                          squared=False))\n",
        "\n",
        "## Realizando a validação cruzada com 5 folds e retornando o resultado do treinamento\n",
        "scores2 = cross_validate(modeloAninhado2, X, y, cv=5, return_estimator=True,\n",
        "                        scoring=make_scorer(mean_squared_error, squared=False))\n",
        "\n",
        "## Comparando o resultado médio dos treinamentos e dos testes da validação cruzada\n",
        "print(f\"RMSE = {np.mean(scores2['test_score'])}\")"
      ],
      "metadata": {
        "colab": {
          "base_uri": "https://localhost:8080/"
        },
        "id": "PJ-XSOfTQslW",
        "outputId": "7775d760-0de2-479a-ea27-19d7dabf0589"
      },
      "execution_count": 11,
      "outputs": [
        {
          "output_type": "stream",
          "name": "stdout",
          "text": [
            "RMSE = 0.12828292978581227\n"
          ]
        }
      ]
    }
  ]
}