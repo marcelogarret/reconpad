{
  "nbformat": 4,
  "nbformat_minor": 0,
  "metadata": {
    "colab": {
      "provenance": [],
      "include_colab_link": true
    },
    "kernelspec": {
      "name": "python3",
      "display_name": "Python 3"
    },
    "language_info": {
      "name": "python"
    }
  },
  "cells": [
    {
      "cell_type": "markdown",
      "metadata": {
        "id": "view-in-github",
        "colab_type": "text"
      },
      "source": [
        "<a href=\"https://colab.research.google.com/github/marcelogarret/reconpad/blob/main/aula5a_gridsearch_garret_v3.ipynb\" target=\"_parent\"><img src=\"https://colab.research.google.com/assets/colab-badge.svg\" alt=\"Open In Colab\"/></a>"
      ]
    },
    {
      "cell_type": "code",
      "execution_count": 1,
      "metadata": {
        "colab": {
          "base_uri": "https://localhost:8080/"
        },
        "id": "AyN2WQKJbptW",
        "outputId": "274b1c13-e267-4288-abb6-abae113071cd"
      },
      "outputs": [
        {
          "output_type": "execute_result",
          "data": {
            "text/plain": [
              "((442, 10), (442,))"
            ]
          },
          "metadata": {},
          "execution_count": 1
        }
      ],
      "source": [
        "## Importando o dataset diabetes (regressão)\n",
        "from sklearn.datasets import load_diabetes\n",
        "X, y = load_diabetes(return_X_y=True)\n",
        "X.shape, y.shape"
      ]
    },
    {
      "cell_type": "code",
      "source": [
        "## !!!Solução Principal!!! ##\n",
        "## Importando bibliotecas de seleção de modelos, métricas, pré-processamento e pipeline\n",
        "from sklearn.metrics import mean_squared_error, make_scorer\n",
        "from sklearn.model_selection import cross_validate, RepeatedKFold\n",
        "from sklearn.neighbors import KNeighborsRegressor\n",
        "from sklearn.model_selection import GridSearchCV\n",
        "from sklearn.preprocessing import StandardScaler\n",
        "from sklearn.pipeline import Pipeline\n",
        "import numpy as np\n",
        "\n",
        "## Construindo o Pipeline com o StandardScaler e o modelo de regressão Knn\n",
        "pipe = Pipeline([\n",
        "    ('scaler', StandardScaler()),\n",
        "    ('clf', KNeighborsRegressor())\n",
        "])\n",
        "\n",
        "## Definindo parãmetros de ajuste do GridSearchCV\n",
        "param = {'scaler__with_mean': [True, False],\n",
        "         'clf__n_neighbors': [3, 5, 7],\n",
        "         'clf__metric': ['cosine', 'cityblock', 'euclidean']}\n",
        "\n",
        "## Definindo modelo aninhado com Pipeline interno ao GridSearchcV\n",
        "modeloAninhado = GridSearchCV(pipe, param, verbose=0, cv=5,\n",
        "                      scoring=make_scorer(mean_squared_error,\n",
        "                                          greater_is_better=False,\n",
        "                                          squared=False))\n",
        "\n",
        "## Realizando a validação cruzada com 5 folds e retornando o resultado do treinamento\n",
        "scores = cross_validate(modeloAninhado, X, y, cv=5, return_estimator=True,\n",
        "                        scoring=make_scorer(mean_squared_error, squared=False), return_train_score=True)\n",
        "\n",
        "## Comparando o resultado médio dos treinamentos e dos testes da validação cruzada\n",
        "print(f\"RMSE Treinamento = {np.mean(scores['train_score'])}\\nRMSE Teste = {np.mean(scores['test_score'])}\")"
      ],
      "metadata": {
        "colab": {
          "base_uri": "https://localhost:8080/"
        },
        "id": "ZKSrexSdfkkq",
        "outputId": "35ef61c3-8043-4ac7-89d2-e5fb4362c352"
      },
      "execution_count": 2,
      "outputs": [
        {
          "output_type": "stream",
          "name": "stdout",
          "text": [
            "RMSE Treinamento = 50.75526155219973\n",
            "RMSE Teste = 57.27230638368057\n"
          ]
        }
      ]
    },
    {
      "cell_type": "code",
      "source": [
        "## !!!Solução Alternativa!!! ##\n",
        "## Dividindo o dataset em treino e teste\n",
        "from sklearn.model_selection import train_test_split\n",
        "Xtr, Xte, ytr, yte = train_test_split(X, y)\n",
        "\n",
        "## Construindo o Pipeline com o StandardScaler e o modelo de regressão Knn\n",
        "pipe2 = Pipeline([\n",
        "    ('scaler', StandardScaler()),\n",
        "    ('clf', KNeighborsRegressor())\n",
        "])\n",
        "\n",
        "## Definindo parãmetros de ajuste do GridSearchCV\n",
        "param2 = {'scaler__with_mean': [True, False],\n",
        "         'clf__n_neighbors': [3, 5, 7],\n",
        "         'clf__metric': ['cosine', 'cityblock', 'euclidean']}\n",
        "\n",
        "## Definindo modelo aninhado com Pipeline interno ao GridSearchcV\n",
        "modeloAninhado2 = GridSearchCV(pipe2, param2, verbose=0, cv=5,\n",
        "                      scoring=make_scorer(mean_squared_error,\n",
        "                                          greater_is_better=False,\n",
        "                                          squared=False))\n",
        "\n",
        "## Realizando a validação cruzada com 5 folds e retornando o resultado do treinamento\n",
        "scores2 = cross_validate(modeloAninhado2, X, y, cv=5, return_estimator=True,\n",
        "                        scoring=make_scorer(mean_squared_error, squared=False), return_train_score=True)\n",
        "\n",
        "## Comparando o resultado médio do treinamento e do teste\n",
        "rmse_train = 0\n",
        "rmse_test = 0\n",
        "for modelo in scores2['estimator']:\n",
        "  rmse_train += mean_squared_error(ytr, modelo.predict(Xtr))**0.5\n",
        "  rmse_test += mean_squared_error(yte, modelo.predict(Xte))**0.5\n",
        "print(f\"RMSE Treinamento = {rmse_train/len(scores2['estimator'])}\\nRMSE Teste = {rmse_test/len(scores2['estimator'])}\")"
      ],
      "metadata": {
        "colab": {
          "base_uri": "https://localhost:8080/"
        },
        "id": "SZ-Tilp2QQxB",
        "outputId": "f2dd63f2-061b-4c6c-ccc8-3ee6324e9404"
      },
      "execution_count": 3,
      "outputs": [
        {
          "output_type": "stream",
          "name": "stdout",
          "text": [
            "RMSE Treinamento = 53.25681387427882\n",
            "RMSE Teste = 48.592116401560126\n"
          ]
        }
      ]
    }
  ]
}